{
 "cells": [
  {
   "cell_type": "markdown",
   "id": "c2bf4be1",
   "metadata": {},
   "source": [
    "# Computational Social Science Project #2 \n",
    "\n",
    "*Group number:* \n",
    "\n",
    "*Group members:*   \n",
    "\n",
    "*Semester:* Fall 2021\n"
   ]
  },
  {
   "cell_type": "markdown",
   "id": "0e8fb6f6",
   "metadata": {},
   "source": [
    "Below we fill in some of the code you might use to answer some of the questions. Here are some additional resources for when you get stuck:\n",
    "* Code and documentation provided in the course notebooks  \n",
    "* [Markdown cheatsheet](https://github.com/adam-p/markdown-here/wiki/Markdown-Cheatsheet) to help with formatting the Jupyter notebook\n",
    "* Try Googling any errors you get and consult Stack Overflow, etc. Someone has probably had your question before!\n",
    "* Send KQ a pull request on GitHub flagging the syntax that's tripping you up "
   ]
  },
  {
   "cell_type": "markdown",
   "id": "e8f66f6a",
   "metadata": {},
   "source": [
    "## 1. Introduction/Setup"
   ]
  },
  {
   "cell_type": "markdown",
   "id": "f41a3947",
   "metadata": {},
   "source": [
    "#### a) Import relevant libraries\n",
    "Add the other libraries you need for your code below and/or as you go. "
   ]
  },
  {
   "cell_type": "code",
   "execution_count": 31,
   "id": "dcf2704e",
   "metadata": {},
   "outputs": [],
   "source": [
    "# import libraries you might need here \n",
    "import pandas as pd\n",
    "import numpy as np\n",
    "import matplotlib.pyplot as plt\n",
    "%matplotlib inline\n",
    "import seaborn as sns\n",
    "\n",
    "# use random seed for consistent results \n",
    "np.random.seed(273)"
   ]
  },
  {
   "cell_type": "markdown",
   "id": "a19dae8c",
   "metadata": {},
   "source": [
    "#### b) Read in and inspect data frame \n",
    "Read in the data frame and look at some of its attributes. "
   ]
  },
  {
   "cell_type": "code",
   "execution_count": 32,
   "id": "b8073f03",
   "metadata": {},
   "outputs": [],
   "source": [
    "diabetes = pd.read_csv('Diabetes with Population Info by County 2017.csv', \n",
    "                       #CountyFips needs to be a string so leading 0 isn't dropped (this is only if you want to make choropleth map): \n",
    "                       dtype={\"CountyFIPS\": str}) "
   ]
  },
  {
   "cell_type": "code",
   "execution_count": 33,
   "id": "52858c48",
   "metadata": {},
   "outputs": [
    {
     "name": "stdout",
     "output_type": "stream",
     "text": [
      "shape:  (3220, 95)\n"
     ]
    }
   ],
   "source": [
    "# look at the dimensions of the diabetes data frame\n",
    "print('shape: ', diabetes.shape) "
   ]
  },
  {
   "cell_type": "code",
   "execution_count": 34,
   "id": "39985523",
   "metadata": {},
   "outputs": [
    {
     "name": "stdout",
     "output_type": "stream",
     "text": [
      "data types: County                                                                                                                                                   object\n",
      "State                                                                                                                                                    object\n",
      "CountyFIPS                                                                                                                                               object\n",
      "Diabetes_Number                                                                                                                                          object\n",
      "Obesity_Number                                                                                                                                           object\n",
      "Physical_Inactivity_Number                                                                                                                               object\n",
      "sex and age_total population_65 years and over_sex ratio (males per 100 females)                                                                         object\n",
      "race_total population                                                                                                                                     int64\n",
      "race_total population_one race                                                                                                                            int64\n",
      "race_total population_two or more races                                                                                                                   int64\n",
      "race_total population_one race_1                                                                                                                          int64\n",
      "race_total population_one race_white                                                                                                                      int64\n",
      "race_total population_one race_black or african american                                                                                                  int64\n",
      "race_total population_one race_american indian and alaska native                                                                                          int64\n",
      "race_total population_one race_american indian and alaska native_cherokee tribal grouping                                                                 int64\n",
      "race_total population_one race_american indian and alaska native_chippewa tribal grouping                                                                 int64\n",
      "race_total population_one race_american indian and alaska native_navajo tribal grouping                                                                   int64\n",
      "race_total population_one race_american indian and alaska native_sioux tribal grouping                                                                    int64\n",
      "race_total population_one race_asian                                                                                                                      int64\n",
      "race_total population_one race_asian_asian indian                                                                                                         int64\n",
      "race_total population_one race_asian_chinese                                                                                                              int64\n",
      "race_total population_one race_asian_filipino                                                                                                             int64\n",
      "race_total population_one race_asian_japanese                                                                                                             int64\n",
      "race_total population_one race_asian_korean                                                                                                               int64\n",
      "race_total population_one race_asian_vietnamese                                                                                                           int64\n",
      "race_total population_one race_asian_other asian                                                                                                          int64\n",
      "race_total population_one race_native hawaiian and other pacific islander                                                                                 int64\n",
      "race_total population_one race_native hawaiian and other pacific islander_native hawaiian                                                                 int64\n",
      "race_total population_one race_native hawaiian and other pacific islander_guamanian or chamorro                                                           int64\n",
      "race_total population_one race_native hawaiian and other pacific islander_samoan                                                                          int64\n",
      "race_total population_one race_native hawaiian and other pacific islander_other pacific islander                                                          int64\n",
      "race_total population_one race_some other race                                                                                                            int64\n",
      "race_total population_two or more races_1                                                                                                                 int64\n",
      "race_total population_two or more races_white and black or african american                                                                               int64\n",
      "race_total population_two or more races_white and american indian and alaska native                                                                       int64\n",
      "race_total population_two or more races_white and asian                                                                                                   int64\n",
      "race_total population_two or more races_black or african american and american indian and alaska native                                                   int64\n",
      "race alone or in combination with one or more other races_total population                                                                                int64\n",
      "race alone or in combination with one or more other races_total population_white                                                                          int64\n",
      "race alone or in combination with one or more other races_total population_black or african american                                                      int64\n",
      "race alone or in combination with one or more other races_total population_american indian and alaska native                                              int64\n",
      "race alone or in combination with one or more other races_total population_asian                                                                          int64\n",
      "race alone or in combination with one or more other races_total population_native hawaiian and other pacific islander                                     int64\n",
      "race alone or in combination with one or more other races_total population_some other race                                                                int64\n",
      "hispanic or latino and race_total population                                                                                                              int64\n",
      "hispanic or latino and race_total population_hispanic or latino (of any race)                                                                             int64\n",
      "hispanic or latino and race_total population_hispanic or latino (of any race)_mexican                                                                     int64\n",
      "hispanic or latino and race_total population_hispanic or latino (of any race)_puerto rican                                                                int64\n",
      "hispanic or latino and race_total population_hispanic or latino (of any race)_cuban                                                                       int64\n",
      "hispanic or latino and race_total population_hispanic or latino (of any race)_other hispanic or latino                                                    int64\n",
      "hispanic or latino and race_total population_not hispanic or latino                                                                                       int64\n",
      "hispanic or latino and race_total population_not hispanic or latino_white alone                                                                           int64\n",
      "hispanic or latino and race_total population_not hispanic or latino_black or african american alone                                                       int64\n",
      "hispanic or latino and race_total population_not hispanic or latino_american indian and alaska native alone                                               int64\n",
      "hispanic or latino and race_total population_not hispanic or latino_asian alone                                                                           int64\n",
      "hispanic or latino and race_total population_not hispanic or latino_native hawaiian and other pacific islander alone                                      int64\n",
      "hispanic or latino and race_total population_not hispanic or latino_some other race alone                                                                 int64\n",
      "hispanic or latino and race_total population_not hispanic or latino_two or more races                                                                     int64\n",
      "hispanic or latino and race_total population_not hispanic or latino_two or more races_two races including some other race                                 int64\n",
      "hispanic or latino and race_total population_not hispanic or latino_two or more races_two races excluding some other race -  and three or more races      int64\n",
      "total housing units                                                                                                                                       int64\n",
      "citizen -  voting age population_citizen -  18 and over population                                                                                        int64\n",
      "citizen -  voting age population_citizen -  18 and over population_male                                                                                   int64\n",
      "citizen -  voting age population_citizen -  18 and over population_female                                                                                 int64\n",
      "sex and age_total population                                                                                                                              int64\n",
      "sex and age_total population_male                                                                                                                         int64\n",
      "sex and age_total population_female                                                                                                                       int64\n",
      "sex and age_total population_sex ratio (males per 100 females)                                                                                          float64\n",
      "sex and age_total population_under 5 years                                                                                                                int64\n",
      "sex and age_total population_5 to 9 years                                                                                                                 int64\n",
      "sex and age_total population_10 to 14 years                                                                                                               int64\n",
      "sex and age_total population_15 to 19 years                                                                                                               int64\n",
      "sex and age_total population_20 to 24 years                                                                                                               int64\n",
      "sex and age_total population_25 to 34 years                                                                                                               int64\n",
      "sex and age_total population_35 to 44 years                                                                                                               int64\n",
      "sex and age_total population_45 to 54 years                                                                                                               int64\n",
      "sex and age_total population_55 to 59 years                                                                                                               int64\n",
      "sex and age_total population_60 to 64 years                                                                                                               int64\n",
      "sex and age_total population_65 to 74 years                                                                                                               int64\n",
      "sex and age_total population_75 to 84 years                                                                                                               int64\n",
      "sex and age_total population_85 years and over                                                                                                            int64\n",
      "sex and age_total population_median age (years)                                                                                                         float64\n",
      "sex and age_total population_under 18 years                                                                                                               int64\n",
      "sex and age_total population_16 years and over                                                                                                            int64\n",
      "sex and age_total population_18 years and over                                                                                                            int64\n",
      "sex and age_total population_21 years and over                                                                                                            int64\n",
      "sex and age_total population_62 years and over                                                                                                            int64\n",
      "sex and age_total population_65 years and over                                                                                                            int64\n",
      "sex and age_total population_18 years and over_1                                                                                                          int64\n",
      "sex and age_total population_18 years and over_male                                                                                                       int64\n",
      "sex and age_total population_18 years and over_female                                                                                                     int64\n",
      "sex and age_total population_18 years and over_sex ratio (males per 100 females)                                                                        float64\n",
      "sex and age_total population_65 years and over_1                                                                                                          int64\n",
      "sex and age_total population_65 years and over_male                                                                                                       int64\n",
      "sex and age_total population_65 years and over_female                                                                                                     int64\n",
      "dtype: object\n"
     ]
    }
   ],
   "source": [
    "pd.set_option('display.max_rows', 100) # tells pandas how many rows to display when printing so results don't get truncated\n",
    "\n",
    "# look at the data types for each column in diabetes df \n",
    "print('data types:', diabetes.dtypes)"
   ]
  },
  {
   "cell_type": "markdown",
   "id": "c8dcc077",
   "metadata": {},
   "source": [
    "Immediately, we see that some of the features that should be numeric (e.g., Diabetes_Number, Obesity_Number,  and Physical_Inactivity_Number) are not. We can check to see what the non-numeric values are in a column where we are expecting numeric information with a combination of `str.isnumeric()` and `unique()`."
   ]
  },
  {
   "cell_type": "code",
   "execution_count": 35,
   "id": "785eeec3",
   "metadata": {},
   "outputs": [
    {
     "name": "stdout",
     "output_type": "stream",
     "text": [
      "['Suppressed']\n"
     ]
    }
   ],
   "source": [
    "# Return rows where the column \"Diabetes_Number\" is non-numeric and get the unique values of these rows\n",
    "# the \"~\" below in front of diabetes negates the str.isnumeric() so it only takes non-numeric values\n",
    "print(diabetes[~diabetes['Diabetes_Number'].str.isnumeric()]['Diabetes_Number'].unique()) "
   ]
  },
  {
   "cell_type": "code",
   "execution_count": 36,
   "id": "a607492b",
   "metadata": {},
   "outputs": [
    {
     "name": "stdout",
     "output_type": "stream",
     "text": [
      "['No Data']\n"
     ]
    }
   ],
   "source": [
    "# Now do the same as above, but for \"Obesity_Number\" :\n",
    "print(diabetes[~diabetes['Obesity_Number'].str.isnumeric()]['Obesity_Number'].unique()) "
   ]
  },
  {
   "cell_type": "code",
   "execution_count": 37,
   "id": "ac9a6bcd-1d71-4923-ba58-0ed2ca76c8d7",
   "metadata": {},
   "outputs": [
    {
     "name": "stdout",
     "output_type": "stream",
     "text": [
      "['No Data']\n"
     ]
    }
   ],
   "source": [
    "print(diabetes[~diabetes['Physical_Inactivity_Number'].str.isnumeric()]['Physical_Inactivity_Number'].unique()) "
   ]
  },
  {
   "cell_type": "markdown",
   "id": "d829afe3",
   "metadata": {},
   "source": [
    "The values contained in the two columns above making them objects (rather than integers) appear to be strings like \"No Data\" and \"Suppressed.\" Let's drop those rows in the next section, and also recode Physical_Inactivity_Number to be an integer. "
   ]
  },
  {
   "cell_type": "markdown",
   "id": "581d5c0e",
   "metadata": {},
   "source": [
    "#### c. Recode variables"
   ]
  },
  {
   "cell_type": "markdown",
   "id": "3b2c96e7",
   "metadata": {},
   "source": [
    "Convert 'Diabetes_Number', 'Obesity_Number', and 'Physical_Inactivity_Number' to integers below so we can use them in our analysis. Also fill in the object type we want to recode 'sex and age_total population_65 years and over_sex ratio (males per 100 females)' to. "
   ]
  },
  {
   "cell_type": "code",
   "execution_count": 38,
   "id": "9bfcfe1e",
   "metadata": {},
   "outputs": [],
   "source": [
    "# Diabetes\n",
    "# keep only useful info about our target feature, i.e., where diabetes_number not = 'Suppressed'\n",
    "diabetes = diabetes[diabetes['Diabetes_Number']!=\"Suppressed\"]  # note that the inside reference to the diabetes df identifies the column, and the outer calls specific rows according to a condition \n",
    "\n",
    "# use the astype method on Diabetes_Number to convert it to an integer...if you are not sure, what does the astype() documentation tell you are possible arguments? \n",
    "diabetes['Diabetes_Number'] = diabetes['Diabetes_Number'].astype('int64') \n",
    "\n",
    "# Obesity\n",
    "diabetes['Obesity_Number'] = diabetes[diabetes['Obesity_Number']!= \"No Data\"]['Obesity_Number'].dropna().astype('int64') \n",
    "\n",
    "# Physical Inactivity\n",
    "diabetes['Physical_Inactivity_Number'] = diabetes[diabetes['Physical_Inactivity_Number']!= \"No Data\"]['Physical_Inactivity_Number'].dropna().astype('int64') \n",
    "\n",
    "# 65+ sex ratio had one \"-\" in it so let's drop that row first\n",
    "diabetes = diabetes[diabetes['sex and age_total population_65 years and over_sex ratio (males per 100 females)']!= \"-\"]\n",
    "# change to numeric (specifically, integer or float?) from string (because originally included the \"-\" )\n",
    "diabetes['sex and age_total population_65 years and over_sex ratio (males per 100 females)'] = diabetes['sex and age_total population_65 years and over_sex ratio (males per 100 females)'].dropna().astype(float)\n"
   ]
  },
  {
   "cell_type": "markdown",
   "id": "c6a0f933",
   "metadata": {},
   "source": [
    "We should probably scale our count variables to be proportional to county population. We create the list 'rc_cols' to select all the features we want to rescale, and then use the `.div()` method to avoid typing out every single column we want to recode. "
   ]
  },
  {
   "cell_type": "code",
   "execution_count": 40,
   "id": "3a5bcd13-f669-49d1-8e77-c0e89d42d666",
   "metadata": {},
   "outputs": [
    {
     "data": {
      "text/html": [
       "<div>\n",
       "<style scoped>\n",
       "    .dataframe tbody tr th:only-of-type {\n",
       "        vertical-align: middle;\n",
       "    }\n",
       "\n",
       "    .dataframe tbody tr th {\n",
       "        vertical-align: top;\n",
       "    }\n",
       "\n",
       "    .dataframe thead th {\n",
       "        text-align: right;\n",
       "    }\n",
       "</style>\n",
       "<table border=\"1\" class=\"dataframe\">\n",
       "  <thead>\n",
       "    <tr style=\"text-align: right;\">\n",
       "      <th></th>\n",
       "      <th>County</th>\n",
       "      <th>State</th>\n",
       "      <th>CountyFIPS</th>\n",
       "      <th>Diabetes_Number</th>\n",
       "      <th>Obesity_Number</th>\n",
       "      <th>Physical_Inactivity_Number</th>\n",
       "      <th>sex and age_total population_65 years and over_sex ratio (males per 100 females)</th>\n",
       "      <th>race_total population</th>\n",
       "      <th>race_total population_one race</th>\n",
       "      <th>race_total population_two or more races</th>\n",
       "      <th>...</th>\n",
       "      <th>sex and age_total population_21 years and over</th>\n",
       "      <th>sex and age_total population_62 years and over</th>\n",
       "      <th>sex and age_total population_65 years and over</th>\n",
       "      <th>sex and age_total population_18 years and over_1</th>\n",
       "      <th>sex and age_total population_18 years and over_male</th>\n",
       "      <th>sex and age_total population_18 years and over_female</th>\n",
       "      <th>sex and age_total population_18 years and over_sex ratio (males per 100 females)</th>\n",
       "      <th>sex and age_total population_65 years and over_1</th>\n",
       "      <th>sex and age_total population_65 years and over_male</th>\n",
       "      <th>sex and age_total population_65 years and over_female</th>\n",
       "    </tr>\n",
       "  </thead>\n",
       "  <tbody>\n",
       "    <tr>\n",
       "      <th>0</th>\n",
       "      <td>Autauga County</td>\n",
       "      <td>Alabama</td>\n",
       "      <td>01001</td>\n",
       "      <td>5178</td>\n",
       "      <td>13489.0</td>\n",
       "      <td>12525.0</td>\n",
       "      <td>76.5</td>\n",
       "      <td>55200</td>\n",
       "      <td>54170</td>\n",
       "      <td>1030</td>\n",
       "      <td>...</td>\n",
       "      <td>39614</td>\n",
       "      <td>9403</td>\n",
       "      <td>8050</td>\n",
       "      <td>41831</td>\n",
       "      <td>20054</td>\n",
       "      <td>21777</td>\n",
       "      <td>92.1</td>\n",
       "      <td>8050</td>\n",
       "      <td>3488</td>\n",
       "      <td>4562</td>\n",
       "    </tr>\n",
       "    <tr>\n",
       "      <th>1</th>\n",
       "      <td>Baldwin County</td>\n",
       "      <td>Alabama</td>\n",
       "      <td>01003</td>\n",
       "      <td>16707</td>\n",
       "      <td>48542.0</td>\n",
       "      <td>40024.0</td>\n",
       "      <td>86.6</td>\n",
       "      <td>208107</td>\n",
       "      <td>204535</td>\n",
       "      <td>3572</td>\n",
       "      <td>...</td>\n",
       "      <td>155502</td>\n",
       "      <td>49811</td>\n",
       "      <td>40665</td>\n",
       "      <td>162430</td>\n",
       "      <td>78104</td>\n",
       "      <td>84326</td>\n",
       "      <td>92.6</td>\n",
       "      <td>40665</td>\n",
       "      <td>18870</td>\n",
       "      <td>21795</td>\n",
       "    </tr>\n",
       "    <tr>\n",
       "      <th>2</th>\n",
       "      <td>Barbour County</td>\n",
       "      <td>Alabama</td>\n",
       "      <td>01005</td>\n",
       "      <td>3400</td>\n",
       "      <td>8009.0</td>\n",
       "      <td>5431.0</td>\n",
       "      <td>76.2</td>\n",
       "      <td>25782</td>\n",
       "      <td>25429</td>\n",
       "      <td>353</td>\n",
       "      <td>...</td>\n",
       "      <td>19394</td>\n",
       "      <td>5658</td>\n",
       "      <td>4634</td>\n",
       "      <td>20346</td>\n",
       "      <td>10923</td>\n",
       "      <td>9423</td>\n",
       "      <td>115.9</td>\n",
       "      <td>4634</td>\n",
       "      <td>2004</td>\n",
       "      <td>2630</td>\n",
       "    </tr>\n",
       "    <tr>\n",
       "      <th>3</th>\n",
       "      <td>Bibb County</td>\n",
       "      <td>Alabama</td>\n",
       "      <td>01007</td>\n",
       "      <td>2371</td>\n",
       "      <td>6534.0</td>\n",
       "      <td>5827.0</td>\n",
       "      <td>80.5</td>\n",
       "      <td>22527</td>\n",
       "      <td>22340</td>\n",
       "      <td>187</td>\n",
       "      <td>...</td>\n",
       "      <td>16864</td>\n",
       "      <td>4323</td>\n",
       "      <td>3661</td>\n",
       "      <td>17868</td>\n",
       "      <td>9578</td>\n",
       "      <td>8290</td>\n",
       "      <td>115.5</td>\n",
       "      <td>3661</td>\n",
       "      <td>1633</td>\n",
       "      <td>2028</td>\n",
       "    </tr>\n",
       "    <tr>\n",
       "      <th>4</th>\n",
       "      <td>Blount County</td>\n",
       "      <td>Alabama</td>\n",
       "      <td>01009</td>\n",
       "      <td>6282</td>\n",
       "      <td>14227.0</td>\n",
       "      <td>14365.0</td>\n",
       "      <td>79.7</td>\n",
       "      <td>57645</td>\n",
       "      <td>56710</td>\n",
       "      <td>935</td>\n",
       "      <td>...</td>\n",
       "      <td>42232</td>\n",
       "      <td>12400</td>\n",
       "      <td>10233</td>\n",
       "      <td>44177</td>\n",
       "      <td>21595</td>\n",
       "      <td>22582</td>\n",
       "      <td>95.6</td>\n",
       "      <td>10233</td>\n",
       "      <td>4540</td>\n",
       "      <td>5693</td>\n",
       "    </tr>\n",
       "    <tr>\n",
       "      <th>...</th>\n",
       "      <td>...</td>\n",
       "      <td>...</td>\n",
       "      <td>...</td>\n",
       "      <td>...</td>\n",
       "      <td>...</td>\n",
       "      <td>...</td>\n",
       "      <td>...</td>\n",
       "      <td>...</td>\n",
       "      <td>...</td>\n",
       "      <td>...</td>\n",
       "      <td>...</td>\n",
       "      <td>...</td>\n",
       "      <td>...</td>\n",
       "      <td>...</td>\n",
       "      <td>...</td>\n",
       "      <td>...</td>\n",
       "      <td>...</td>\n",
       "      <td>...</td>\n",
       "      <td>...</td>\n",
       "      <td>...</td>\n",
       "      <td>...</td>\n",
       "    </tr>\n",
       "    <tr>\n",
       "      <th>3215</th>\n",
       "      <td>Sweetwater County</td>\n",
       "      <td>Wyoming</td>\n",
       "      <td>56037</td>\n",
       "      <td>2560</td>\n",
       "      <td>9362.0</td>\n",
       "      <td>7518.0</td>\n",
       "      <td>92.0</td>\n",
       "      <td>44117</td>\n",
       "      <td>43226</td>\n",
       "      <td>891</td>\n",
       "      <td>...</td>\n",
       "      <td>30491</td>\n",
       "      <td>6159</td>\n",
       "      <td>4721</td>\n",
       "      <td>32308</td>\n",
       "      <td>16800</td>\n",
       "      <td>15508</td>\n",
       "      <td>108.3</td>\n",
       "      <td>4721</td>\n",
       "      <td>2262</td>\n",
       "      <td>2459</td>\n",
       "    </tr>\n",
       "    <tr>\n",
       "      <th>3216</th>\n",
       "      <td>Teton County</td>\n",
       "      <td>Wyoming</td>\n",
       "      <td>56039</td>\n",
       "      <td>439</td>\n",
       "      <td>2051.0</td>\n",
       "      <td>2005.0</td>\n",
       "      <td>94.8</td>\n",
       "      <td>23059</td>\n",
       "      <td>22875</td>\n",
       "      <td>184</td>\n",
       "      <td>...</td>\n",
       "      <td>18169</td>\n",
       "      <td>3843</td>\n",
       "      <td>3135</td>\n",
       "      <td>18625</td>\n",
       "      <td>9619</td>\n",
       "      <td>9006</td>\n",
       "      <td>106.8</td>\n",
       "      <td>3135</td>\n",
       "      <td>1526</td>\n",
       "      <td>1609</td>\n",
       "    </tr>\n",
       "    <tr>\n",
       "      <th>3217</th>\n",
       "      <td>Uinta County</td>\n",
       "      <td>Wyoming</td>\n",
       "      <td>56041</td>\n",
       "      <td>1440</td>\n",
       "      <td>4925.0</td>\n",
       "      <td>3519.0</td>\n",
       "      <td>97.6</td>\n",
       "      <td>20609</td>\n",
       "      <td>19891</td>\n",
       "      <td>718</td>\n",
       "      <td>...</td>\n",
       "      <td>13939</td>\n",
       "      <td>3251</td>\n",
       "      <td>2498</td>\n",
       "      <td>14538</td>\n",
       "      <td>7280</td>\n",
       "      <td>7258</td>\n",
       "      <td>100.3</td>\n",
       "      <td>2498</td>\n",
       "      <td>1234</td>\n",
       "      <td>1264</td>\n",
       "    </tr>\n",
       "    <tr>\n",
       "      <th>3218</th>\n",
       "      <td>Washakie County</td>\n",
       "      <td>Wyoming</td>\n",
       "      <td>56043</td>\n",
       "      <td>637</td>\n",
       "      <td>1738.0</td>\n",
       "      <td>1708.0</td>\n",
       "      <td>89.0</td>\n",
       "      <td>8129</td>\n",
       "      <td>7791</td>\n",
       "      <td>338</td>\n",
       "      <td>...</td>\n",
       "      <td>5951</td>\n",
       "      <td>2041</td>\n",
       "      <td>1686</td>\n",
       "      <td>6187</td>\n",
       "      <td>3142</td>\n",
       "      <td>3045</td>\n",
       "      <td>103.2</td>\n",
       "      <td>1686</td>\n",
       "      <td>794</td>\n",
       "      <td>892</td>\n",
       "    </tr>\n",
       "    <tr>\n",
       "      <th>3219</th>\n",
       "      <td>Weston County</td>\n",
       "      <td>Wyoming</td>\n",
       "      <td>56045</td>\n",
       "      <td>601</td>\n",
       "      <td>2015.0</td>\n",
       "      <td>1383.0</td>\n",
       "      <td>90.6</td>\n",
       "      <td>7100</td>\n",
       "      <td>6956</td>\n",
       "      <td>144</td>\n",
       "      <td>...</td>\n",
       "      <td>5434</td>\n",
       "      <td>1770</td>\n",
       "      <td>1340</td>\n",
       "      <td>5595</td>\n",
       "      <td>2923</td>\n",
       "      <td>2672</td>\n",
       "      <td>109.4</td>\n",
       "      <td>1340</td>\n",
       "      <td>637</td>\n",
       "      <td>703</td>\n",
       "    </tr>\n",
       "  </tbody>\n",
       "</table>\n",
       "<p>3190 rows × 95 columns</p>\n",
       "</div>"
      ],
      "text/plain": [
       "                 County    State CountyFIPS  Diabetes_Number  Obesity_Number  \\\n",
       "0        Autauga County  Alabama      01001             5178         13489.0   \n",
       "1        Baldwin County  Alabama      01003            16707         48542.0   \n",
       "2        Barbour County  Alabama      01005             3400          8009.0   \n",
       "3           Bibb County  Alabama      01007             2371          6534.0   \n",
       "4         Blount County  Alabama      01009             6282         14227.0   \n",
       "...                 ...      ...        ...              ...             ...   \n",
       "3215  Sweetwater County  Wyoming      56037             2560          9362.0   \n",
       "3216       Teton County  Wyoming      56039              439          2051.0   \n",
       "3217       Uinta County  Wyoming      56041             1440          4925.0   \n",
       "3218    Washakie County  Wyoming      56043              637          1738.0   \n",
       "3219      Weston County  Wyoming      56045              601          2015.0   \n",
       "\n",
       "      Physical_Inactivity_Number  \\\n",
       "0                        12525.0   \n",
       "1                        40024.0   \n",
       "2                         5431.0   \n",
       "3                         5827.0   \n",
       "4                        14365.0   \n",
       "...                          ...   \n",
       "3215                      7518.0   \n",
       "3216                      2005.0   \n",
       "3217                      3519.0   \n",
       "3218                      1708.0   \n",
       "3219                      1383.0   \n",
       "\n",
       "      sex and age_total population_65 years and over_sex ratio (males per 100 females)  \\\n",
       "0                                                  76.5                                  \n",
       "1                                                  86.6                                  \n",
       "2                                                  76.2                                  \n",
       "3                                                  80.5                                  \n",
       "4                                                  79.7                                  \n",
       "...                                                 ...                                  \n",
       "3215                                               92.0                                  \n",
       "3216                                               94.8                                  \n",
       "3217                                               97.6                                  \n",
       "3218                                               89.0                                  \n",
       "3219                                               90.6                                  \n",
       "\n",
       "      race_total population  race_total population_one race  \\\n",
       "0                     55200                           54170   \n",
       "1                    208107                          204535   \n",
       "2                     25782                           25429   \n",
       "3                     22527                           22340   \n",
       "4                     57645                           56710   \n",
       "...                     ...                             ...   \n",
       "3215                  44117                           43226   \n",
       "3216                  23059                           22875   \n",
       "3217                  20609                           19891   \n",
       "3218                   8129                            7791   \n",
       "3219                   7100                            6956   \n",
       "\n",
       "      race_total population_two or more races  ...  \\\n",
       "0                                        1030  ...   \n",
       "1                                        3572  ...   \n",
       "2                                         353  ...   \n",
       "3                                         187  ...   \n",
       "4                                         935  ...   \n",
       "...                                       ...  ...   \n",
       "3215                                      891  ...   \n",
       "3216                                      184  ...   \n",
       "3217                                      718  ...   \n",
       "3218                                      338  ...   \n",
       "3219                                      144  ...   \n",
       "\n",
       "      sex and age_total population_21 years and over  \\\n",
       "0                                              39614   \n",
       "1                                             155502   \n",
       "2                                              19394   \n",
       "3                                              16864   \n",
       "4                                              42232   \n",
       "...                                              ...   \n",
       "3215                                           30491   \n",
       "3216                                           18169   \n",
       "3217                                           13939   \n",
       "3218                                            5951   \n",
       "3219                                            5434   \n",
       "\n",
       "      sex and age_total population_62 years and over  \\\n",
       "0                                               9403   \n",
       "1                                              49811   \n",
       "2                                               5658   \n",
       "3                                               4323   \n",
       "4                                              12400   \n",
       "...                                              ...   \n",
       "3215                                            6159   \n",
       "3216                                            3843   \n",
       "3217                                            3251   \n",
       "3218                                            2041   \n",
       "3219                                            1770   \n",
       "\n",
       "      sex and age_total population_65 years and over  \\\n",
       "0                                               8050   \n",
       "1                                              40665   \n",
       "2                                               4634   \n",
       "3                                               3661   \n",
       "4                                              10233   \n",
       "...                                              ...   \n",
       "3215                                            4721   \n",
       "3216                                            3135   \n",
       "3217                                            2498   \n",
       "3218                                            1686   \n",
       "3219                                            1340   \n",
       "\n",
       "      sex and age_total population_18 years and over_1  \\\n",
       "0                                                41831   \n",
       "1                                               162430   \n",
       "2                                                20346   \n",
       "3                                                17868   \n",
       "4                                                44177   \n",
       "...                                                ...   \n",
       "3215                                             32308   \n",
       "3216                                             18625   \n",
       "3217                                             14538   \n",
       "3218                                              6187   \n",
       "3219                                              5595   \n",
       "\n",
       "      sex and age_total population_18 years and over_male  \\\n",
       "0                                                 20054     \n",
       "1                                                 78104     \n",
       "2                                                 10923     \n",
       "3                                                  9578     \n",
       "4                                                 21595     \n",
       "...                                                 ...     \n",
       "3215                                              16800     \n",
       "3216                                               9619     \n",
       "3217                                               7280     \n",
       "3218                                               3142     \n",
       "3219                                               2923     \n",
       "\n",
       "      sex and age_total population_18 years and over_female  \\\n",
       "0                                                 21777       \n",
       "1                                                 84326       \n",
       "2                                                  9423       \n",
       "3                                                  8290       \n",
       "4                                                 22582       \n",
       "...                                                 ...       \n",
       "3215                                              15508       \n",
       "3216                                               9006       \n",
       "3217                                               7258       \n",
       "3218                                               3045       \n",
       "3219                                               2672       \n",
       "\n",
       "      sex and age_total population_18 years and over_sex ratio (males per 100 females)  \\\n",
       "0                                                  92.1                                  \n",
       "1                                                  92.6                                  \n",
       "2                                                 115.9                                  \n",
       "3                                                 115.5                                  \n",
       "4                                                  95.6                                  \n",
       "...                                                 ...                                  \n",
       "3215                                              108.3                                  \n",
       "3216                                              106.8                                  \n",
       "3217                                              100.3                                  \n",
       "3218                                              103.2                                  \n",
       "3219                                              109.4                                  \n",
       "\n",
       "      sex and age_total population_65 years and over_1  \\\n",
       "0                                                 8050   \n",
       "1                                                40665   \n",
       "2                                                 4634   \n",
       "3                                                 3661   \n",
       "4                                                10233   \n",
       "...                                                ...   \n",
       "3215                                              4721   \n",
       "3216                                              3135   \n",
       "3217                                              2498   \n",
       "3218                                              1686   \n",
       "3219                                              1340   \n",
       "\n",
       "      sex and age_total population_65 years and over_male  \\\n",
       "0                                                  3488     \n",
       "1                                                 18870     \n",
       "2                                                  2004     \n",
       "3                                                  1633     \n",
       "4                                                  4540     \n",
       "...                                                 ...     \n",
       "3215                                               2262     \n",
       "3216                                               1526     \n",
       "3217                                               1234     \n",
       "3218                                                794     \n",
       "3219                                                637     \n",
       "\n",
       "      sex and age_total population_65 years and over_female  \n",
       "0                                                  4562      \n",
       "1                                                 21795      \n",
       "2                                                  2630      \n",
       "3                                                  2028      \n",
       "4                                                  5693      \n",
       "...                                                 ...      \n",
       "3215                                               2459      \n",
       "3216                                               1609      \n",
       "3217                                               1264      \n",
       "3218                                                892      \n",
       "3219                                                703      \n",
       "\n",
       "[3190 rows x 95 columns]"
      ]
     },
     "execution_count": 40,
     "metadata": {},
     "output_type": "execute_result"
    }
   ],
   "source": [
    "diabetes"
   ]
  },
  {
   "cell_type": "code",
   "execution_count": null,
   "id": "51e3b414",
   "metadata": {},
   "outputs": [],
   "source": [
    "# select count variables to rc to percentages; make sure we leave out ratios and our population variable b/c these don't make sense to scale by population\n",
    "rc_cols = [col for col in ______.columns if col not in ['County', 'State', 'CountyFIPS', \n",
    "                                                        'sex and age_total population_65 years and over_sex ratio (males per 100 females)', 'sex and age_total population_sex ratio (males per 100 females)', 'sex and age_total population_18 years and over_sex ratio (males per 100 females)',  \n",
    "                                                        'race_total population']]\n",
    "           \n",
    "diabetes[______] = diabetes[______].apply(pd.to_numeric, errors='coerce') # recode all selected columns to numeric\n",
    "\n",
    "# divide all columns but those listed above by total population to calculate rates\n",
    "diabetes[______] = diabetes[______].div(______['race_total population'], axis=0)"
   ]
  },
  {
   "cell_type": "markdown",
   "id": "d5c09414",
   "metadata": {},
   "source": [
    "Let's check our work. Are all rates bounded by 0 and 1 as expected? "
   ]
  },
  {
   "cell_type": "code",
   "execution_count": null,
   "id": "6ad895e3",
   "metadata": {},
   "outputs": [],
   "source": [
    "pd.set_option('display.max_columns', None)\n",
    "# inspect recoded values\n",
    "diabetes_summary = ______.describe().transpose() # note we use the transpose method rather than .T because this object is not a numpy array\n",
    "  \n",
    "# check recoding \n",
    "with pd.option_context('display.max_rows', 100, 'display.max_columns', None): \n",
    "    display(diabetes_summary.iloc[ : ,[0,1,3,7]]) # select which columns in the summary table we want to present"
   ]
  },
  {
   "cell_type": "markdown",
   "id": "55e2bd37",
   "metadata": {},
   "source": [
    "#### d. Check for duplicate columns"
   ]
  },
  {
   "cell_type": "markdown",
   "id": "96d982ba",
   "metadata": {},
   "source": [
    "There are a lot of columns in this data frame. Let's see if there are any are duplicates. "
   ]
  },
  {
   "cell_type": "code",
   "execution_count": null,
   "id": "f11428ed",
   "metadata": {},
   "outputs": [],
   "source": [
    "# I used Google to figure this out, and adapted this example for our purposes:  \n",
    "# source: https://thispointer.com/how-to-find-drop-duplicate-columns-in-a-dataframe-python-pandas/ \n",
    "def getDuplicateColumns(df):\n",
    "    '''\n",
    "    Get a list of duplicate columns.\n",
    "    It will iterate over all the columns in dataframe and find the columns whose contents are duplicate.\n",
    "    :param df: Dataframe object\n",
    "    :return: List of columns whose contents are duplicates.\n",
    "    '''\n",
    "    duplicateColumnNames = set()\n",
    "    # Iterate over all the columns in dataframe\n",
    "    for x in range(df.shape[1]):\n",
    "        # Select column at xth index.\n",
    "        col = df.iloc[:, x]\n",
    "        # Iterate over all the columns in DataFrame from (x+1)th index till end\n",
    "        for y in range(x + 1, df.shape[1]):\n",
    "            # Select column at yth index.\n",
    "            otherCol = df.iloc[:, y]\n",
    "            # Check if two columns at x 7 y index are equal\n",
    "            if col.equals(otherCol):\n",
    "                duplicateColumnNames.add(df.columns.values[y])\n",
    "    return list(duplicateColumnNames)\n",
    "\n",
    "duplicateColumnNames = list(getDuplicateColumns(______))\n",
    "print('Duplicate Columns are as follows: ')\n",
    "duplicateColumnNames"
   ]
  },
  {
   "cell_type": "code",
   "execution_count": null,
   "id": "74c966ea",
   "metadata": {},
   "outputs": [],
   "source": [
    "# now drop list of duplicate features from our df using the .drop() method\n",
    "diabetes = diabetes.drop(columns=______) "
   ]
  },
  {
   "cell_type": "markdown",
   "id": "c854ac28",
   "metadata": {},
   "source": [
    "## 2. Exploratory Data Analysis"
   ]
  },
  {
   "cell_type": "code",
   "execution_count": null,
   "id": "0c2dfc7f",
   "metadata": {},
   "outputs": [],
   "source": [
    "# insert your EDAs and interpretations in this section "
   ]
  },
  {
   "cell_type": "markdown",
   "id": "e1e38866",
   "metadata": {},
   "source": [
    "## 3. Prepare to Fit Models"
   ]
  },
  {
   "cell_type": "markdown",
   "id": "16cc4c67",
   "metadata": {},
   "source": [
    "### 3.1 Finalize Data Set"
   ]
  },
  {
   "cell_type": "markdown",
   "id": "ff8d14a2",
   "metadata": {},
   "source": [
    "We've already cleaned up the data, but we can make a few more adjustments before partitioning the data and training models. Let's recode 'State' to be a categorical variable using `pd.get_dummies` and drop 'County' using `.drop()` because 'CountyFIPS' is already a unique identifier for the county. "
   ]
  },
  {
   "cell_type": "code",
   "execution_count": null,
   "id": "38225afb",
   "metadata": {},
   "outputs": [],
   "source": [
    "# create dummy features out of 'State' , which might be related to diabetes rates \n",
    "diabetes_clean = pd.get_dummies(______, \n",
    "                               columns = [______],  \n",
    "                               drop_first = True) # only create 49 dummies by dropping first in category\n",
    "\n",
    "# drop 'County' variable\n",
    "diabetes_clean = diabetes_clean.drop(labels = ['County'],\n",
    "                               axis = ______) # which axis tells python we want to drop columns rather than index rows?\n",
    "\n",
    "# look at first 10 rows of new data frame \n",
    "diabetes_clean.______ "
   ]
  },
  {
   "cell_type": "markdown",
   "id": "b6dc43c0",
   "metadata": {},
   "source": [
    "### 3.2/3.3 Partition Data and Feature Selection"
   ]
  },
  {
   "cell_type": "markdown",
   "id": "30b225a1",
   "metadata": {},
   "source": [
    "Now, we will partition our data to prepare it for the training process. We will use 60% train—20% validation—20% test in this case. More data in the training set lowers bias, but then increases variance in the validation/test sets. Balancing between bias and variance with choice of these set sizes is important as we want to ensure that there is enough data to train on to get good predictions, but also want to make sure our hold-out sets are representative enough."
   ]
  },
  {
   "cell_type": "code",
   "execution_count": null,
   "id": "f1ff46f3",
   "metadata": {},
   "outputs": [],
   "source": [
    "from sklearn.model_selection import train_test_split\n",
    "\n",
    "# Set y \n",
    "y = ______\n",
    "\n",
    "# X (everything except diabetes, our target)\n",
    "X = ______"
   ]
  },
  {
   "cell_type": "markdown",
   "id": "3ac53ca9",
   "metadata": {},
   "source": [
    "We should also preprocess our data. Using the `preprocessing` module from sklearn, let's scale our features so that they are mean-centered."
   ]
  },
  {
   "cell_type": "code",
   "execution_count": null,
   "id": "ffa70463",
   "metadata": {},
   "outputs": [],
   "source": [
    "from sklearn import preprocessing\n",
    "\n",
    "X = preprocessing.scale(X)"
   ]
  },
  {
   "cell_type": "markdown",
   "id": "c0158fbe",
   "metadata": {},
   "source": [
    "We can also get rid of the 0 variance features using the `VarianceThreshold()` method from `feature_selection`. "
   ]
  },
  {
   "cell_type": "code",
   "execution_count": null,
   "id": "af378860",
   "metadata": {},
   "outputs": [],
   "source": [
    "from sklearn import feature_selection\n",
    "\n",
    "selector = feature_selection.VarianceThreshold(0)\n",
    "X = selector.fit_transform(X)"
   ]
  },
  {
   "cell_type": "markdown",
   "id": "81b83942",
   "metadata": {},
   "source": [
    "And finally, let's split our data:"
   ]
  },
  {
   "cell_type": "code",
   "execution_count": null,
   "id": "21e4c634",
   "metadata": {},
   "outputs": [],
   "source": [
    "# split the data\n",
    "# train_test_split returns 4 values: X_train, X_test, y_train, y_test, so how do we create a 60-20-20 train-validate-test split? \n",
    "\n",
    "X_train, X_test, y_train, y_test = ______\n",
    "\n",
    "X_train, X_validate, y_train, y_validate = ______"
   ]
  },
  {
   "cell_type": "markdown",
   "id": "40b7d3a9",
   "metadata": {},
   "source": [
    "## 4. Train Models"
   ]
  },
  {
   "cell_type": "code",
   "execution_count": null,
   "id": "8fc13e63",
   "metadata": {},
   "outputs": [],
   "source": [
    "# train your five models in this section "
   ]
  },
  {
   "cell_type": "markdown",
   "id": "06845171",
   "metadata": {},
   "source": [
    "## 5. Validate and Refine Models"
   ]
  },
  {
   "cell_type": "code",
   "execution_count": null,
   "id": "262f7d65",
   "metadata": {},
   "outputs": [],
   "source": [
    "# use X_validation and y_validation data sets to evaluate and refine your models"
   ]
  },
  {
   "cell_type": "markdown",
   "id": "1c3d55c5",
   "metadata": {},
   "source": [
    "## 6. Discussion Questions"
   ]
  },
  {
   "cell_type": "code",
   "execution_count": 1,
   "id": "7ac2e8e9",
   "metadata": {},
   "outputs": [],
   "source": [
    "# insert responses for discussion Qs here"
   ]
  }
 ],
 "metadata": {
  "kernelspec": {
   "display_name": "Python 3 (ipykernel)",
   "language": "python",
   "name": "python3"
  },
  "language_info": {
   "codemirror_mode": {
    "name": "ipython",
    "version": 3
   },
   "file_extension": ".py",
   "mimetype": "text/x-python",
   "name": "python",
   "nbconvert_exporter": "python",
   "pygments_lexer": "ipython3",
   "version": "3.9.12"
  }
 },
 "nbformat": 4,
 "nbformat_minor": 5
}
